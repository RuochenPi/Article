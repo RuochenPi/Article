{
 "cells": [
  {
   "cell_type": "markdown",
   "id": "ca8c8fdb",
   "metadata": {},
   "source": [
    "Author:Ruochen Pi\n",
    "\n",
    "UID:500055496\n",
    "\n",
    "Group 174\n",
    "\n",
    "Update Time: 2022/4/7\n",
    "\n",
    "\n",
    "Hardware and software specifications of the computer:\n",
    "Processor: Intel(R) Core(TM) i7-8550U CPU @ 1.80GHz (8 CPUs), ~2.0GHz\n",
    "Memory: 16384MB RAM\n",
    "Available OS Memory: 16226MB RAM\n"
   ]
  },
  {
   "cell_type": "markdown",
   "id": "61f938d7",
   "metadata": {
    "scrolled": true
   },
   "source": [
    "# 1. input data"
   ]
  },
  {
   "cell_type": "code",
   "execution_count": 3,
   "id": "b26d8110",
   "metadata": {},
   "outputs": [
    {
     "name": "stdout",
     "output_type": "stream",
     "text": [
      "['train.csv']\n"
     ]
    }
   ],
   "source": [
    "import pandas as pd\n",
    "import os\n",
    "import numpy as np\n",
    "print(os.listdir(\"./Input/train\"))\n",
    "pd.set_option('display.max_columns', 10)"
   ]
  },
  {
   "cell_type": "code",
   "execution_count": 4,
   "id": "10e83022",
   "metadata": {
    "scrolled": true
   },
   "outputs": [],
   "source": [
    "# train.csv including feature and label using for training model.\n",
    "data_train_df = pd.read_csv('./Input/train/train.csv')\n",
    "\n",
    "# test_input.csv includes 5000 samples used for label prediction. Test samples do not have labels.\n",
    "data_test_df = pd.read_csv('./Input/test/test_input.csv', index_col=0) "
   ]
  },
  {
   "cell_type": "code",
   "execution_count": 5,
   "id": "e43011fc",
   "metadata": {
    "scrolled": true
   },
   "outputs": [
    {
     "data": {
      "text/html": [
       "<div>\n",
       "<style scoped>\n",
       "    .dataframe tbody tr th:only-of-type {\n",
       "        vertical-align: middle;\n",
       "    }\n",
       "\n",
       "    .dataframe tbody tr th {\n",
       "        vertical-align: top;\n",
       "    }\n",
       "\n",
       "    .dataframe thead th {\n",
       "        text-align: right;\n",
       "    }\n",
       "</style>\n",
       "<table border=\"1\" class=\"dataframe\">\n",
       "  <thead>\n",
       "    <tr style=\"text-align: right;\">\n",
       "      <th></th>\n",
       "      <th>id</th>\n",
       "      <th>v1</th>\n",
       "      <th>v2</th>\n",
       "      <th>v3</th>\n",
       "      <th>v4</th>\n",
       "      <th>...</th>\n",
       "      <th>v781</th>\n",
       "      <th>v782</th>\n",
       "      <th>v783</th>\n",
       "      <th>v784</th>\n",
       "      <th>label</th>\n",
       "    </tr>\n",
       "  </thead>\n",
       "  <tbody>\n",
       "    <tr>\n",
       "      <th>0</th>\n",
       "      <td>0</td>\n",
       "      <td>0</td>\n",
       "      <td>0</td>\n",
       "      <td>0</td>\n",
       "      <td>0</td>\n",
       "      <td>...</td>\n",
       "      <td>0</td>\n",
       "      <td>0</td>\n",
       "      <td>0</td>\n",
       "      <td>0</td>\n",
       "      <td>2</td>\n",
       "    </tr>\n",
       "    <tr>\n",
       "      <th>1</th>\n",
       "      <td>1</td>\n",
       "      <td>0</td>\n",
       "      <td>0</td>\n",
       "      <td>0</td>\n",
       "      <td>0</td>\n",
       "      <td>...</td>\n",
       "      <td>0</td>\n",
       "      <td>0</td>\n",
       "      <td>0</td>\n",
       "      <td>0</td>\n",
       "      <td>1</td>\n",
       "    </tr>\n",
       "    <tr>\n",
       "      <th>2</th>\n",
       "      <td>2</td>\n",
       "      <td>0</td>\n",
       "      <td>0</td>\n",
       "      <td>0</td>\n",
       "      <td>0</td>\n",
       "      <td>...</td>\n",
       "      <td>0</td>\n",
       "      <td>0</td>\n",
       "      <td>0</td>\n",
       "      <td>0</td>\n",
       "      <td>1</td>\n",
       "    </tr>\n",
       "    <tr>\n",
       "      <th>3</th>\n",
       "      <td>3</td>\n",
       "      <td>0</td>\n",
       "      <td>0</td>\n",
       "      <td>0</td>\n",
       "      <td>1</td>\n",
       "      <td>...</td>\n",
       "      <td>0</td>\n",
       "      <td>0</td>\n",
       "      <td>0</td>\n",
       "      <td>0</td>\n",
       "      <td>4</td>\n",
       "    </tr>\n",
       "    <tr>\n",
       "      <th>4</th>\n",
       "      <td>4</td>\n",
       "      <td>0</td>\n",
       "      <td>0</td>\n",
       "      <td>0</td>\n",
       "      <td>0</td>\n",
       "      <td>...</td>\n",
       "      <td>0</td>\n",
       "      <td>0</td>\n",
       "      <td>0</td>\n",
       "      <td>0</td>\n",
       "      <td>8</td>\n",
       "    </tr>\n",
       "  </tbody>\n",
       "</table>\n",
       "<p>5 rows × 786 columns</p>\n",
       "</div>"
      ],
      "text/plain": [
       "   id  v1  v2  v3  v4  ...  v781  v782  v783  v784  label\n",
       "0   0   0   0   0   0  ...     0     0     0     0      2\n",
       "1   1   0   0   0   0  ...     0     0     0     0      1\n",
       "2   2   0   0   0   0  ...     0     0     0     0      1\n",
       "3   3   0   0   0   1  ...     0     0     0     0      4\n",
       "4   4   0   0   0   0  ...     0     0     0     0      8\n",
       "\n",
       "[5 rows x 786 columns]"
      ]
     },
     "execution_count": 5,
     "metadata": {},
     "output_type": "execute_result"
    }
   ],
   "source": [
    "data_train_df.head()"
   ]
  },
  {
   "cell_type": "code",
   "execution_count": 6,
   "id": "22c7113f",
   "metadata": {},
   "outputs": [
    {
     "data": {
      "text/html": [
       "<div>\n",
       "<style scoped>\n",
       "    .dataframe tbody tr th:only-of-type {\n",
       "        vertical-align: middle;\n",
       "    }\n",
       "\n",
       "    .dataframe tbody tr th {\n",
       "        vertical-align: top;\n",
       "    }\n",
       "\n",
       "    .dataframe thead th {\n",
       "        text-align: right;\n",
       "    }\n",
       "</style>\n",
       "<table border=\"1\" class=\"dataframe\">\n",
       "  <thead>\n",
       "    <tr style=\"text-align: right;\">\n",
       "      <th></th>\n",
       "      <th>v1</th>\n",
       "      <th>v2</th>\n",
       "      <th>v3</th>\n",
       "      <th>v4</th>\n",
       "      <th>v5</th>\n",
       "      <th>...</th>\n",
       "      <th>v780</th>\n",
       "      <th>v781</th>\n",
       "      <th>v782</th>\n",
       "      <th>v783</th>\n",
       "      <th>v784</th>\n",
       "    </tr>\n",
       "    <tr>\n",
       "      <th>id</th>\n",
       "      <th></th>\n",
       "      <th></th>\n",
       "      <th></th>\n",
       "      <th></th>\n",
       "      <th></th>\n",
       "      <th></th>\n",
       "      <th></th>\n",
       "      <th></th>\n",
       "      <th></th>\n",
       "      <th></th>\n",
       "      <th></th>\n",
       "    </tr>\n",
       "  </thead>\n",
       "  <tbody>\n",
       "    <tr>\n",
       "      <th>0</th>\n",
       "      <td>0</td>\n",
       "      <td>0</td>\n",
       "      <td>0</td>\n",
       "      <td>0</td>\n",
       "      <td>0</td>\n",
       "      <td>...</td>\n",
       "      <td>0</td>\n",
       "      <td>0</td>\n",
       "      <td>0</td>\n",
       "      <td>0</td>\n",
       "      <td>0</td>\n",
       "    </tr>\n",
       "    <tr>\n",
       "      <th>1</th>\n",
       "      <td>0</td>\n",
       "      <td>0</td>\n",
       "      <td>0</td>\n",
       "      <td>0</td>\n",
       "      <td>0</td>\n",
       "      <td>...</td>\n",
       "      <td>0</td>\n",
       "      <td>0</td>\n",
       "      <td>0</td>\n",
       "      <td>0</td>\n",
       "      <td>0</td>\n",
       "    </tr>\n",
       "    <tr>\n",
       "      <th>2</th>\n",
       "      <td>0</td>\n",
       "      <td>0</td>\n",
       "      <td>0</td>\n",
       "      <td>0</td>\n",
       "      <td>0</td>\n",
       "      <td>...</td>\n",
       "      <td>0</td>\n",
       "      <td>0</td>\n",
       "      <td>0</td>\n",
       "      <td>0</td>\n",
       "      <td>0</td>\n",
       "    </tr>\n",
       "    <tr>\n",
       "      <th>3</th>\n",
       "      <td>0</td>\n",
       "      <td>0</td>\n",
       "      <td>0</td>\n",
       "      <td>0</td>\n",
       "      <td>0</td>\n",
       "      <td>...</td>\n",
       "      <td>0</td>\n",
       "      <td>0</td>\n",
       "      <td>0</td>\n",
       "      <td>0</td>\n",
       "      <td>0</td>\n",
       "    </tr>\n",
       "    <tr>\n",
       "      <th>4</th>\n",
       "      <td>0</td>\n",
       "      <td>0</td>\n",
       "      <td>0</td>\n",
       "      <td>0</td>\n",
       "      <td>0</td>\n",
       "      <td>...</td>\n",
       "      <td>0</td>\n",
       "      <td>0</td>\n",
       "      <td>0</td>\n",
       "      <td>0</td>\n",
       "      <td>0</td>\n",
       "    </tr>\n",
       "  </tbody>\n",
       "</table>\n",
       "<p>5 rows × 784 columns</p>\n",
       "</div>"
      ],
      "text/plain": [
       "    v1  v2  v3  v4  v5  ...  v780  v781  v782  v783  v784\n",
       "id                      ...                              \n",
       "0    0   0   0   0   0  ...     0     0     0     0     0\n",
       "1    0   0   0   0   0  ...     0     0     0     0     0\n",
       "2    0   0   0   0   0  ...     0     0     0     0     0\n",
       "3    0   0   0   0   0  ...     0     0     0     0     0\n",
       "4    0   0   0   0   0  ...     0     0     0     0     0\n",
       "\n",
       "[5 rows x 784 columns]"
      ]
     },
     "execution_count": 6,
     "metadata": {},
     "output_type": "execute_result"
    }
   ],
   "source": [
    "data_test_df.head()"
   ]
  },
  {
   "cell_type": "code",
   "execution_count": 7,
   "id": "57644b04",
   "metadata": {},
   "outputs": [],
   "source": [
    " # Selecting input feature\n",
    "data_train_feature = data_train_df.loc[:, \"v1\":\"v784\"].to_numpy()\n",
    " # Selecting test feature\n",
    "data_test_feature = data_test_df.loc[:, \"v1\":\"v784\"].to_numpy()\n",
    "# Selecting output lable\n",
    "data_train_label = data_train_df.label.to_numpy()"
   ]
  },
  {
   "cell_type": "code",
   "execution_count": 8,
   "id": "107b6892",
   "metadata": {},
   "outputs": [
    {
     "data": {
      "image/png": "[encoded data removed]",
      "text/plain": [
       "<Figure size 432x288 with 1 Axes>"
      ]
     },
     "metadata": {
      "needs_background": "light"
     },
     "output_type": "display_data"
    }
   ],
   "source": [
    "import matplotlib.pyplot as plt\n",
    "data_train_feature = data_train_feature.reshape((data_train_feature.shape[0], 28, 28))\n",
    "plt.imshow(data_train_feature[0], cmap=plt.get_cmap('gray'))\n",
    "plt.title(\"class \" + str(data_train_label[0]) + \": Pullover\" )\n",
    "plt.show()"
   ]
  },
  {
   "cell_type": "code",
   "execution_count": 9,
   "id": "911af421",
   "metadata": {},
   "outputs": [
    {
     "data": {
      "text/html": [
       "<div>\n",
       "<style scoped>\n",
       "    .dataframe tbody tr th:only-of-type {\n",
       "        vertical-align: middle;\n",
       "    }\n",
       "\n",
       "    .dataframe tbody tr th {\n",
       "        vertical-align: top;\n",
       "    }\n",
       "\n",
       "    .dataframe thead th {\n",
       "        text-align: right;\n",
       "    }\n",
       "</style>\n",
       "<table border=\"1\" class=\"dataframe\">\n",
       "  <thead>\n",
       "    <tr style=\"text-align: right;\">\n",
       "      <th></th>\n",
       "      <th>v1</th>\n",
       "      <th>v2</th>\n",
       "      <th>v3</th>\n",
       "      <th>v4</th>\n",
       "      <th>v5</th>\n",
       "      <th>...</th>\n",
       "      <th>v780</th>\n",
       "      <th>v781</th>\n",
       "      <th>v782</th>\n",
       "      <th>v783</th>\n",
       "      <th>v784</th>\n",
       "    </tr>\n",
       "    <tr>\n",
       "      <th>id</th>\n",
       "      <th></th>\n",
       "      <th></th>\n",
       "      <th></th>\n",
       "      <th></th>\n",
       "      <th></th>\n",
       "      <th></th>\n",
       "      <th></th>\n",
       "      <th></th>\n",
       "      <th></th>\n",
       "      <th></th>\n",
       "      <th></th>\n",
       "    </tr>\n",
       "  </thead>\n",
       "  <tbody>\n",
       "    <tr>\n",
       "      <th>0</th>\n",
       "      <td>0</td>\n",
       "      <td>0</td>\n",
       "      <td>0</td>\n",
       "      <td>0</td>\n",
       "      <td>0</td>\n",
       "      <td>...</td>\n",
       "      <td>0</td>\n",
       "      <td>0</td>\n",
       "      <td>0</td>\n",
       "      <td>0</td>\n",
       "      <td>0</td>\n",
       "    </tr>\n",
       "    <tr>\n",
       "      <th>1</th>\n",
       "      <td>0</td>\n",
       "      <td>0</td>\n",
       "      <td>0</td>\n",
       "      <td>0</td>\n",
       "      <td>0</td>\n",
       "      <td>...</td>\n",
       "      <td>0</td>\n",
       "      <td>0</td>\n",
       "      <td>0</td>\n",
       "      <td>0</td>\n",
       "      <td>0</td>\n",
       "    </tr>\n",
       "    <tr>\n",
       "      <th>2</th>\n",
       "      <td>0</td>\n",
       "      <td>0</td>\n",
       "      <td>0</td>\n",
       "      <td>0</td>\n",
       "      <td>0</td>\n",
       "      <td>...</td>\n",
       "      <td>0</td>\n",
       "      <td>0</td>\n",
       "      <td>0</td>\n",
       "      <td>0</td>\n",
       "      <td>0</td>\n",
       "    </tr>\n",
       "    <tr>\n",
       "      <th>3</th>\n",
       "      <td>0</td>\n",
       "      <td>0</td>\n",
       "      <td>0</td>\n",
       "      <td>0</td>\n",
       "      <td>0</td>\n",
       "      <td>...</td>\n",
       "      <td>0</td>\n",
       "      <td>0</td>\n",
       "      <td>0</td>\n",
       "      <td>0</td>\n",
       "      <td>0</td>\n",
       "    </tr>\n",
       "    <tr>\n",
       "      <th>4</th>\n",
       "      <td>0</td>\n",
       "      <td>0</td>\n",
       "      <td>0</td>\n",
       "      <td>0</td>\n",
       "      <td>0</td>\n",
       "      <td>...</td>\n",
       "      <td>0</td>\n",
       "      <td>0</td>\n",
       "      <td>0</td>\n",
       "      <td>0</td>\n",
       "      <td>0</td>\n",
       "    </tr>\n",
       "  </tbody>\n",
       "</table>\n",
       "<p>5 rows × 784 columns</p>\n",
       "</div>"
      ],
      "text/plain": [
       "    v1  v2  v3  v4  v5  ...  v780  v781  v782  v783  v784\n",
       "id                      ...                              \n",
       "0    0   0   0   0   0  ...     0     0     0     0     0\n",
       "1    0   0   0   0   0  ...     0     0     0     0     0\n",
       "2    0   0   0   0   0  ...     0     0     0     0     0\n",
       "3    0   0   0   0   0  ...     0     0     0     0     0\n",
       "4    0   0   0   0   0  ...     0     0     0     0     0\n",
       "\n",
       "[5 rows x 784 columns]"
      ]
     },
     "execution_count": 9,
     "metadata": {},
     "output_type": "execute_result"
    }
   ],
   "source": [
    "data_test_df.head()"
   ]
  },
  {
   "cell_type": "markdown",
   "id": "471e3e99",
   "metadata": {},
   "source": [
    "# 2. prediction"
   ]
  },
  {
   "cell_type": "code",
   "execution_count": 10,
   "id": "eb6d3d06",
   "metadata": {},
   "outputs": [],
   "source": [
    "\n",
    "# prediction on the test data\n",
    "# normalization\n",
    "\n",
    "\n",
    "#def norm(data):\n",
    "#    min = data.min(axis=0)\n",
    "#    max = data.max(axis=0)\n",
    "#    norm_result = (data-min)/(max-min)\n",
    "#    return norm_result\n",
    "\n",
    "#train_norm = norm(data_train_feature)\n",
    "\n",
    "data_train_feature = data_train_feature.reshape((data_train_feature.shape[0],-1))\n",
    "Train_Num=data_train_feature.shape[0]\n",
    "data_test_feature = data_test_feature.reshape((data_test_feature.shape[0],-1))\n",
    "data_all=np.vstack((data_train_feature,data_test_feature)) \n",
    "# In[35]:\n",
    "\n",
    "from sklearn.preprocessing import MinMaxScaler\n",
    "scaler = MinMaxScaler()\n",
    "scaler.fit(data_all)\n",
    "\n",
    "all_norm = scaler.transform(data_all)\n",
    "train_norm = all_norm[:Train_Num,:]\n",
    "test_norm = all_norm[Train_Num:,:]\n"
   ]
  },
  {
   "cell_type": "code",
   "execution_count": 11,
   "id": "89327d5f",
   "metadata": {},
   "outputs": [
    {
     "data": {
      "text/plain": [
       "array([  0,   0,   0,   0,   1,   0,   0, 131, 184, 199, 229, 234, 217,\n",
       "       212, 204, 208, 226, 227, 203, 185, 173,  44,   0,   4,   0,   0,\n",
       "         0,   0,   0,   0,   0,   0,   2,   0,   0, 214, 224, 116,  78,\n",
       "       149, 141, 148, 131, 121, 141, 141, 169, 212, 251, 136,   0,  10,\n",
       "         0,   0,   0,   0,   0,   0,   1,   0,   5,   0,  43, 220, 217,\n",
       "       213, 104,  13,   6,  49,  36,  11,  37, 121, 179, 208, 227, 155,\n",
       "         0,   0,   0,   0,   0,   0,   0,   0,   1,   0,   0,   0, 155,\n",
       "       233, 217, 226, 255, 252, 133,  64, 109, 127, 175, 240, 232, 209,\n",
       "       224, 204,   0,   0,   3,   0,   0,   0,   0,   0,   0,   3,   0,\n",
       "         0, 212, 227, 223, 223, 217, 230, 241, 237, 210, 252, 229, 222,\n",
       "       213, 218, 221, 216,   0,   0,   7,   0,   0,   0,   0,   0,   3,\n",
       "         0,  13, 193, 223, 215, 218, 215, 224, 225, 219, 213, 209, 212,\n",
       "       217, 225, 225, 224, 217, 223, 198,   0,   0,   2,   0,   0,   0,\n",
       "         0,   0,   0, 197, 227, 211, 216, 215, 251, 236, 212, 250, 221,\n",
       "       213, 213, 207, 209, 208, 212, 214, 210, 232, 169,   0,   0,   0,\n",
       "         0,   0,   0,   0,  13, 214, 206, 216, 214, 246, 116,  14,  29,\n",
       "         0, 212, 215, 211, 214, 209, 211, 210, 209, 212, 203, 207,   4,\n",
       "         0,   0,   0,   0,   0,   0,  62, 223, 208, 222, 229, 195,   0,\n",
       "       103,   0,   0, 137, 240, 200, 219, 214, 211, 207, 212, 216, 204,\n",
       "       221,  70,   0,   0,   0,   0,   0,   0, 104, 223, 203, 224, 236,\n",
       "       191,  66,  19,  59,  35,  96, 227, 203, 207, 223, 221, 211, 204,\n",
       "       215, 203, 224, 131,   0,   0,   0,   0,   0,   0, 169, 220, 204,\n",
       "       221, 222, 229,  34,   0,  54,   0, 230, 199, 204, 208, 210, 226,\n",
       "       223, 209, 217, 208, 216, 193,   0,   0,   0,   0,   0,   0, 206,\n",
       "       216, 205, 220, 223, 164, 221, 156, 149, 239, 217, 140, 244, 223,\n",
       "       139, 152, 230, 216, 219, 209, 211, 217,   0,   0,   0,   0,   0,\n",
       "         0, 222, 213, 205, 222, 219, 150, 152, 201, 171, 162, 121, 120,\n",
       "       156, 151, 130, 162, 225, 214, 221, 211, 211, 225,   0,   0,   0,\n",
       "         0,   0,   0, 233, 209, 207, 231, 230, 173, 164, 176, 155, 163,\n",
       "       174, 141, 150, 147, 153, 157, 195, 221, 227, 216, 209, 238,   0,\n",
       "         0,   0,   0,   0,  11, 245, 208, 204, 230, 231, 137, 147, 144,\n",
       "       133, 125, 126, 126, 134, 129, 131, 138, 193, 208, 222, 218, 207,\n",
       "       215,  39,   0,   0,   0,   0,  31, 246, 206, 199, 222, 251, 139,\n",
       "        73,  85,  77,  92, 111, 130, 150, 176, 187, 200, 218, 206, 222,\n",
       "       219, 207, 248,  55,   0,   0,   0,   0,  56, 248, 203, 203, 225,\n",
       "       248, 210, 154, 210, 234, 236, 235, 235, 230, 224, 217, 212, 213,\n",
       "       207, 222, 220, 208, 245,  61,   0,   0,   0,   0,  65, 246, 205,\n",
       "       200, 229, 235, 204, 229, 226, 208, 204, 204, 205, 204, 207, 205,\n",
       "       205, 211, 203, 219, 223, 209, 245,  72,   0,   0,   0,   0,  85,\n",
       "       244, 203, 196, 239, 233, 202, 206, 208, 210, 210, 211, 213, 208,\n",
       "       206, 212, 209, 210, 204, 218, 227, 210, 243,  79,   0,   0,   0,\n",
       "         0, 119, 241, 202, 194, 242, 225, 206, 213, 213, 212, 212, 211,\n",
       "       212, 209, 205, 213, 212, 210, 204, 216, 229, 210, 240, 102,   0,\n",
       "         0,   0,   0, 145, 230, 200, 201, 240, 221, 208, 214, 214, 212,\n",
       "       212, 213, 213, 210, 204, 208, 212, 212, 204, 217, 229, 210, 234,\n",
       "       124,   0,   0,   0,   0, 171, 223, 211, 200, 239, 224, 206, 215,\n",
       "       216, 214, 213, 213, 213, 211, 207, 207, 211, 212, 207, 220, 224,\n",
       "       210, 235, 164,   0,   0,   0,   0, 133, 237, 210, 204, 235, 226,\n",
       "       206, 214, 214, 213, 212, 214, 214, 213, 210, 208, 211, 212, 206,\n",
       "       219, 226, 210, 244, 103,   0,   0,   0,   0,  32, 217, 204, 207,\n",
       "       239, 229, 207, 213, 213, 211, 209, 213, 214, 213, 210, 212, 212,\n",
       "       211, 200, 220, 226, 214, 221,  40,   0,   0,   0,   0,  33, 219,\n",
       "       209, 211, 204, 208, 219, 210, 214, 212, 211, 212, 212, 212, 209,\n",
       "       212, 216, 214, 209, 211, 236, 212, 231,  55,   0,   0,   0,   0,\n",
       "        21, 199, 215, 228, 149, 168, 224, 210, 211, 212, 214, 214, 213,\n",
       "       214, 212, 211, 207, 205, 212,  89, 233, 222, 197,  21,   0,   0,\n",
       "         0,   0,   0,   0,  12,  21,   0, 217, 239, 217, 224, 220, 218,\n",
       "       215, 217, 222, 222, 226, 236, 219, 255,  51,   0,   0,   0,   0,\n",
       "         0,   0,   0,   0,   0,   0,   0,   0,   0,  48, 172, 181, 198,\n",
       "       206, 209, 210, 208, 202, 194, 186, 175, 143, 106,   0,   0,   0,\n",
       "         0,   0,   0,   0], dtype=int64)"
      ]
     },
     "execution_count": 11,
     "metadata": {},
     "output_type": "execute_result"
    }
   ],
   "source": [
    "data_train_feature[0]\n"
   ]
  },
  {
   "cell_type": "code",
   "execution_count": 12,
   "id": "6242d8bd",
   "metadata": {},
   "outputs": [
    {
     "data": {
      "text/plain": [
       "array([0.        , 0.        , 0.        , 0.        , 0.00505051,\n",
       "       0.        , 0.        , 0.59817352, 0.75720165, 0.78039216,\n",
       "       0.89803922, 0.91764706, 0.85098039, 0.83137255, 0.8       ,\n",
       "       0.81568627, 0.88627451, 0.89019608, 0.79607843, 0.7254902 ,\n",
       "       0.68924303, 0.17254902, 0.        , 0.01818182, 0.        ,\n",
       "       0.        , 0.        , 0.        , 0.        , 0.        ,\n",
       "       0.        , 0.        , 0.00784314, 0.        , 0.        ,\n",
       "       0.83921569, 0.87843137, 0.45490196, 0.30588235, 0.58431373,\n",
       "       0.55294118, 0.58039216, 0.51372549, 0.4745098 , 0.55294118,\n",
       "       0.55294118, 0.6627451 , 0.83137255, 0.98431373, 0.53333333,\n",
       "       0.        , 0.03921569, 0.        , 0.        , 0.        ,\n",
       "       0.        , 0.        , 0.        , 0.00425532, 0.        ,\n",
       "       0.01960784, 0.        , 0.16862745, 0.8627451 , 0.85098039,\n",
       "       0.83529412, 0.40784314, 0.05098039, 0.02352941, 0.19215686,\n",
       "       0.14117647, 0.04313725, 0.14509804, 0.4745098 , 0.70196078,\n",
       "       0.81568627, 0.89019608, 0.60784314, 0.        , 0.        ,\n",
       "       0.        , 0.        , 0.        , 0.        , 0.        ,\n",
       "       0.        , 0.00392157, 0.        , 0.        , 0.        ,\n",
       "       0.60784314, 0.91372549, 0.85098039, 0.88627451, 1.        ,\n",
       "       0.98823529, 0.52156863, 0.25098039, 0.42745098, 0.49803922,\n",
       "       0.68627451, 0.94117647, 0.90980392, 0.81960784, 0.87843137,\n",
       "       0.8       , 0.        , 0.        , 0.01176471, 0.        ,\n",
       "       0.        , 0.        , 0.        , 0.        , 0.        ,\n",
       "       0.01176471, 0.        , 0.        , 0.83137255, 0.89019608,\n",
       "       0.8745098 , 0.8745098 , 0.85098039, 0.90196078, 0.94509804,\n",
       "       0.92941176, 0.82352941, 0.98823529, 0.89803922, 0.87058824,\n",
       "       0.83529412, 0.85490196, 0.86666667, 0.84705882, 0.        ,\n",
       "       0.        , 0.02745098, 0.        , 0.        , 0.        ,\n",
       "       0.        , 0.        , 0.01176471, 0.        , 0.05098039,\n",
       "       0.75686275, 0.8745098 , 0.84313725, 0.85490196, 0.84313725,\n",
       "       0.87843137, 0.88235294, 0.85882353, 0.83529412, 0.81960784,\n",
       "       0.83137255, 0.85098039, 0.88235294, 0.88235294, 0.87843137,\n",
       "       0.85098039, 0.8745098 , 0.77647059, 0.        , 0.        ,\n",
       "       0.00784314, 0.        , 0.        , 0.        , 0.        ,\n",
       "       0.        , 0.        , 0.77254902, 0.89019608, 0.82745098,\n",
       "       0.84705882, 0.84313725, 0.98431373, 0.9254902 , 0.83137255,\n",
       "       0.98039216, 0.86666667, 0.83529412, 0.83529412, 0.81176471,\n",
       "       0.81960784, 0.81568627, 0.83137255, 0.83921569, 0.82352941,\n",
       "       0.90980392, 0.6627451 , 0.        , 0.        , 0.        ,\n",
       "       0.        , 0.        , 0.        , 0.        , 0.05098039,\n",
       "       0.83921569, 0.80784314, 0.84705882, 0.83921569, 0.96470588,\n",
       "       0.45490196, 0.05490196, 0.11372549, 0.        , 0.83137255,\n",
       "       0.84313725, 0.82745098, 0.83921569, 0.81960784, 0.82745098,\n",
       "       0.82352941, 0.81960784, 0.83137255, 0.79607843, 0.81176471,\n",
       "       0.01568627, 0.        , 0.        , 0.        , 0.        ,\n",
       "       0.        , 0.        , 0.24313725, 0.8745098 , 0.81568627,\n",
       "       0.87058824, 0.89803922, 0.76470588, 0.        , 0.40392157,\n",
       "       0.        , 0.        , 0.5372549 , 0.94117647, 0.78431373,\n",
       "       0.85882353, 0.83921569, 0.82745098, 0.81176471, 0.83137255,\n",
       "       0.84705882, 0.8       , 0.86666667, 0.2745098 , 0.        ,\n",
       "       0.        , 0.        , 0.        , 0.        , 0.        ,\n",
       "       0.40784314, 0.8745098 , 0.79607843, 0.87843137, 0.9254902 ,\n",
       "       0.74901961, 0.25882353, 0.0745098 , 0.23137255, 0.1372549 ,\n",
       "       0.37647059, 0.89019608, 0.79607843, 0.81176471, 0.8745098 ,\n",
       "       0.86666667, 0.82745098, 0.8       , 0.84313725, 0.79607843,\n",
       "       0.87843137, 0.51372549, 0.        , 0.        , 0.        ,\n",
       "       0.        , 0.        , 0.        , 0.6627451 , 0.8627451 ,\n",
       "       0.8       , 0.86666667, 0.87058824, 0.89803922, 0.13333333,\n",
       "       0.        , 0.21176471, 0.        , 0.90196078, 0.78039216,\n",
       "       0.8       , 0.81568627, 0.82352941, 0.88627451, 0.8745098 ,\n",
       "       0.81960784, 0.85098039, 0.81568627, 0.84705882, 0.75686275,\n",
       "       0.        , 0.        , 0.        , 0.        , 0.        ,\n",
       "       0.        , 0.80784314, 0.84705882, 0.80392157, 0.8627451 ,\n",
       "       0.8745098 , 0.64313725, 0.86666667, 0.61176471, 0.58431373,\n",
       "       0.9372549 , 0.85098039, 0.54901961, 0.95686275, 0.8745098 ,\n",
       "       0.54509804, 0.59607843, 0.90196078, 0.84705882, 0.85882353,\n",
       "       0.81960784, 0.82745098, 0.85098039, 0.        , 0.        ,\n",
       "       0.        , 0.        , 0.        , 0.        , 0.87058824,\n",
       "       0.83529412, 0.80392157, 0.87058824, 0.85882353, 0.58823529,\n",
       "       0.59607843, 0.78823529, 0.67058824, 0.63529412, 0.4745098 ,\n",
       "       0.47058824, 0.61176471, 0.59215686, 0.50980392, 0.63529412,\n",
       "       0.88235294, 0.83921569, 0.86666667, 0.82745098, 0.82745098,\n",
       "       0.88235294, 0.        , 0.        , 0.        , 0.        ,\n",
       "       0.        , 0.        , 0.91372549, 0.81960784, 0.81176471,\n",
       "       0.90588235, 0.90196078, 0.67843137, 0.64313725, 0.69019608,\n",
       "       0.60784314, 0.63921569, 0.68235294, 0.55294118, 0.58823529,\n",
       "       0.57647059, 0.6       , 0.61568627, 0.76470588, 0.86666667,\n",
       "       0.89019608, 0.84705882, 0.81960784, 0.93333333, 0.        ,\n",
       "       0.        , 0.        , 0.        , 0.        , 0.04313725,\n",
       "       0.96078431, 0.81568627, 0.8       , 0.90196078, 0.90588235,\n",
       "       0.5372549 , 0.57647059, 0.56470588, 0.52156863, 0.49019608,\n",
       "       0.49411765, 0.49411765, 0.5254902 , 0.50588235, 0.51372549,\n",
       "       0.54117647, 0.75686275, 0.81568627, 0.87058824, 0.85490196,\n",
       "       0.81176471, 0.84313725, 0.15294118, 0.        , 0.        ,\n",
       "       0.        , 0.        , 0.12156863, 0.96470588, 0.80784314,\n",
       "       0.78039216, 0.87058824, 0.98431373, 0.54509804, 0.28627451,\n",
       "       0.33333333, 0.30196078, 0.36078431, 0.43529412, 0.50980392,\n",
       "       0.58823529, 0.69019608, 0.73333333, 0.78431373, 0.85490196,\n",
       "       0.80784314, 0.87058824, 0.85882353, 0.81176471, 0.97254902,\n",
       "       0.21568627, 0.        , 0.        , 0.        , 0.        ,\n",
       "       0.21960784, 0.97254902, 0.79607843, 0.79607843, 0.88235294,\n",
       "       0.97254902, 0.82352941, 0.60392157, 0.82352941, 0.91764706,\n",
       "       0.9254902 , 0.92156863, 0.92156863, 0.90196078, 0.87843137,\n",
       "       0.85098039, 0.83137255, 0.83529412, 0.81176471, 0.87058824,\n",
       "       0.8627451 , 0.81568627, 0.96078431, 0.23921569, 0.        ,\n",
       "       0.        , 0.        , 0.        , 0.25490196, 0.96470588,\n",
       "       0.80392157, 0.78431373, 0.89803922, 0.92156863, 0.8       ,\n",
       "       0.89803922, 0.88627451, 0.81568627, 0.8       , 0.8       ,\n",
       "       0.80392157, 0.8       , 0.81176471, 0.80392157, 0.80392157,\n",
       "       0.82745098, 0.79607843, 0.85882353, 0.8745098 , 0.81960784,\n",
       "       0.96078431, 0.28235294, 0.        , 0.        , 0.        ,\n",
       "       0.        , 0.33333333, 0.95686275, 0.79607843, 0.76862745,\n",
       "       0.9372549 , 0.91372549, 0.79215686, 0.80784314, 0.81568627,\n",
       "       0.82352941, 0.82352941, 0.82745098, 0.83529412, 0.81568627,\n",
       "       0.80784314, 0.83137255, 0.81960784, 0.82352941, 0.8       ,\n",
       "       0.85490196, 0.89019608, 0.82352941, 0.95294118, 0.30980392,\n",
       "       0.        , 0.        , 0.        , 0.        , 0.46666667,\n",
       "       0.94509804, 0.79215686, 0.76078431, 0.94901961, 0.88235294,\n",
       "       0.80784314, 0.83529412, 0.83529412, 0.83137255, 0.83137255,\n",
       "       0.82745098, 0.83137255, 0.81960784, 0.80392157, 0.83529412,\n",
       "       0.83137255, 0.82352941, 0.8       , 0.84705882, 0.89803922,\n",
       "       0.82352941, 0.94117647, 0.4       , 0.        , 0.        ,\n",
       "       0.        , 0.        , 0.56862745, 0.90196078, 0.78431373,\n",
       "       0.78823529, 0.94117647, 0.86666667, 0.81568627, 0.83921569,\n",
       "       0.83921569, 0.83137255, 0.83137255, 0.83529412, 0.83529412,\n",
       "       0.82352941, 0.8       , 0.81568627, 0.83137255, 0.83137255,\n",
       "       0.8       , 0.85098039, 0.89803922, 0.82352941, 0.91764706,\n",
       "       0.48627451, 0.        , 0.        , 0.        , 0.        ,\n",
       "       0.67058824, 0.8745098 , 0.82745098, 0.78431373, 0.9372549 ,\n",
       "       0.87843137, 0.80784314, 0.84313725, 0.84705882, 0.83921569,\n",
       "       0.83529412, 0.83529412, 0.83529412, 0.82745098, 0.81176471,\n",
       "       0.81176471, 0.82745098, 0.83137255, 0.81176471, 0.8627451 ,\n",
       "       0.87843137, 0.82352941, 0.92156863, 0.64313725, 0.        ,\n",
       "       0.        , 0.        , 0.        , 0.52156863, 0.92941176,\n",
       "       0.82352941, 0.8       , 0.92156863, 0.88627451, 0.80784314,\n",
       "       0.83921569, 0.83921569, 0.83529412, 0.83137255, 0.83921569,\n",
       "       0.83921569, 0.83529412, 0.82352941, 0.81568627, 0.82745098,\n",
       "       0.83137255, 0.80784314, 0.85882353, 0.88627451, 0.82352941,\n",
       "       0.95686275, 0.40392157, 0.        , 0.        , 0.        ,\n",
       "       0.        , 0.1254902 , 0.85098039, 0.8       , 0.81176471,\n",
       "       0.9372549 , 0.89803922, 0.81176471, 0.83529412, 0.83529412,\n",
       "       0.82745098, 0.81960784, 0.83529412, 0.83921569, 0.83529412,\n",
       "       0.82352941, 0.83137255, 0.83137255, 0.82745098, 0.78431373,\n",
       "       0.8627451 , 0.88627451, 0.83921569, 0.86666667, 0.15686275,\n",
       "       0.        , 0.        , 0.        , 0.        , 0.12941176,\n",
       "       0.85882353, 0.81960784, 0.82745098, 0.8       , 0.81568627,\n",
       "       0.85882353, 0.82352941, 0.83921569, 0.83137255, 0.82745098,\n",
       "       0.83137255, 0.83137255, 0.83137255, 0.81960784, 0.83137255,\n",
       "       0.84705882, 0.83921569, 0.81960784, 0.82745098, 0.9254902 ,\n",
       "       0.83137255, 0.90588235, 0.21568627, 0.        , 0.        ,\n",
       "       0.        , 0.        , 0.08235294, 0.78039216, 0.84313725,\n",
       "       0.89411765, 0.58431373, 0.65882353, 0.87843137, 0.82352941,\n",
       "       0.82745098, 0.83137255, 0.83921569, 0.83921569, 0.83529412,\n",
       "       0.83921569, 0.83137255, 0.82745098, 0.81176471, 0.80392157,\n",
       "       0.83137255, 0.34901961, 0.91372549, 0.87058824, 0.77254902,\n",
       "       0.08235294, 0.        , 0.        , 0.        , 0.        ,\n",
       "       0.        , 0.        , 0.04705882, 0.08235294, 0.        ,\n",
       "       0.85098039, 0.9372549 , 0.85098039, 0.87843137, 0.8627451 ,\n",
       "       0.85490196, 0.84313725, 0.85098039, 0.87058824, 0.87058824,\n",
       "       0.88627451, 0.9254902 , 0.85882353, 1.        , 0.2       ,\n",
       "       0.        , 0.        , 0.        , 0.        , 0.        ,\n",
       "       0.        , 0.        , 0.        , 0.        , 0.        ,\n",
       "       0.        , 0.        , 0.        , 0.18823529, 0.6745098 ,\n",
       "       0.70980392, 0.77647059, 0.80784314, 0.81960784, 0.82352941,\n",
       "       0.81568627, 0.79215686, 0.76078431, 0.72941176, 0.68627451,\n",
       "       0.56078431, 0.41568627, 0.        , 0.        , 0.        ,\n",
       "       0.        , 0.        , 0.        , 0.        ])"
      ]
     },
     "execution_count": 12,
     "metadata": {},
     "output_type": "execute_result"
    }
   ],
   "source": [
    "train_norm[0]"
   ]
  },
  {
   "cell_type": "code",
   "execution_count": 25,
   "id": "97189607",
   "metadata": {},
   "outputs": [],
   "source": [
    "# PCA (after normalization)\n",
    "#train_norm = train_norm.reshape((train_norm.shape[0],-1))\n",
    "\n",
    "#from sklearn.decomposition import PCA\n",
    "#pca = PCA(n_components = 200)\n",
    "#train_norm_pca = pca.fit_transform(train_norm)\n",
    "\n",
    "#test_norm_pca = pca.fit_transform(test_norm)\n",
    "\n"
   ]
  },
  {
   "cell_type": "code",
   "execution_count": 29,
   "id": "2a70e0fe",
   "metadata": {
    "scrolled": true
   },
   "outputs": [
    {
     "name": "stdout",
     "output_type": "stream",
     "text": [
      "X_train (29700, 200)\n",
      "X_valid (300, 200)\n",
      "y_train (29700,)\n",
      "y_valid (300,)\n"
     ]
    }
   ],
   "source": [
    "# seperate data into training and validation set (train:test 8:2)\n",
    "from sklearn.model_selection import train_test_split\n",
    "X_train, X_valid, y_train, y_valid = train_test_split(train_norm_pca, data_train_label, test_size = 0.01, random_state = 100)\n",
    "\n",
    "\n",
    "print('X_train',X_train.shape)\n",
    "print('X_valid',X_valid.shape)\n",
    "print('y_train',y_train.shape)\n",
    "print('y_valid',y_valid.shape)"
   ]
  },
  {
   "cell_type": "markdown",
   "id": "68325c19",
   "metadata": {},
   "source": [
    "# 3. classifier"
   ]
  },
  {
   "cell_type": "code",
   "execution_count": 15,
   "id": "989c84c0",
   "metadata": {},
   "outputs": [],
   "source": [
    "#K-fold method\n",
    "#from sklearn.model_selection import StratifiedKFold\n",
    "\n",
    "#get accuracy\n",
    "#from sklearn.metrics import accuracy_score\n",
    "\n",
    "#made pic\n",
    "#import matplotlib.pyplot as plt\n",
    "\n",
    "#running time\n",
    "#from time import time\n",
    "\n",
    "#import numpy as np\n",
    "\n",
    "#from sklearn import svm, datasets\n",
    "#from sklearn.model_selection import GridSearchCV"
   ]
  },
  {
   "cell_type": "markdown",
   "id": "6baa7f8d",
   "metadata": {},
   "source": [
    "# 3.1 KNN classifier"
   ]
  },
  {
   "cell_type": "code",
   "execution_count": 30,
   "id": "ad9766dd",
   "metadata": {},
   "outputs": [
    {
     "name": "stdout",
     "output_type": "stream",
     "text": [
      "n_neighbors = 3, p = 1, Accuracy = 86.33%, running time = 1.96s\n",
      "n_neighbors = 4, p = 1, Accuracy = 86.00%, running time = 1.94s\n",
      "n_neighbors = 5, p = 1, Accuracy = 85.33%, running time = 1.92s\n",
      "n_neighbors = 6, p = 1, Accuracy = 85.00%, running time = 1.93s\n",
      "n_neighbors = 7, p = 1, Accuracy = 85.67%, running time = 1.95s\n",
      "n_neighbors = 8, p = 1, Accuracy = 85.00%, running time = 1.92s\n",
      "n_neighbors = 3, p = 2, Accuracy = 86.00%, running time = 0.22s\n",
      "n_neighbors = 4, p = 2, Accuracy = 86.00%, running time = 0.25s\n",
      "n_neighbors = 5, p = 2, Accuracy = 85.33%, running time = 0.26s\n",
      "n_neighbors = 6, p = 2, Accuracy = 86.33%, running time = 0.24s\n",
      "n_neighbors = 7, p = 2, Accuracy = 85.33%, running time = 0.26s\n",
      "n_neighbors = 8, p = 2, Accuracy = 85.67%, running time = 0.24s\n"
     ]
    }
   ],
   "source": [
    "# use KNN classifier atfer paramenter tunning\n",
    "from time import time\n",
    "from sklearn.metrics import accuracy_score\n",
    "import numpy as np\n",
    "from sklearn.neighbors import KNeighborsClassifier\n",
    "\n",
    "#K-fold method\n",
    "#from sklearn.model_selection import StratifiedKFold\n",
    "\n",
    "#set parameter\n",
    "para_grid_knn = {'n_neighbors':[3,4,5,6,7,8],'p':[1,2]}\n",
    "#10-fold method\n",
    "#cvKFold_knn = StratifiedKFold(n_splits = 10, shuffle = True)\n",
    "\n",
    "#store data\n",
    "time_knn = []\n",
    "acc_knn = []\n",
    "\n",
    "#grid search\n",
    "for p in para_grid_knn[\"p\"]:\n",
    "    acc_mean = []\n",
    "    time_list = []\n",
    "    for n_neighbors in para_grid_knn[\"n_neighbors\"]:\n",
    "            acc= []\n",
    "            start = time()\n",
    "            \n",
    "            knn = KNeighborsClassifier(n_neighbors = n_neighbors, p = p)\n",
    "            knn.fit(X_train, y_train)\n",
    "            y_pred = knn.predict(X_valid)\n",
    "            acc.append(accuracy_score(y_pred,y_valid))\n",
    "            acc_mean.append(np.around(np.mean(acc)*100,2))\n",
    "            time_list.append(time()-start)\n",
    "            print(\"n_neighbors = %d, p = %d, Accuracy = %.2f%%, running time = %.2fs\"%(n_neighbors,p,acc_mean[-1],time_list[-1]))\n",
    "    acc_knn.append(acc_mean)\n",
    "    time_knn.append(time_list)\n"
   ]
  },
  {
   "cell_type": "code",
   "execution_count": 31,
   "id": "5ce8c0d8",
   "metadata": {},
   "outputs": [
    {
     "data": {
      "image/png": "[encoded data removed]",
      "text/plain": [
       "<Figure size 1080x864 with 2 Axes>"
      ]
     },
     "metadata": {
      "needs_background": "light"
     },
     "output_type": "display_data"
    }
   ],
   "source": [
    "plt.figure(figsize = (15,12))\n",
    "\n",
    "plt.subplot(2,2,1)\n",
    "plt.plot(para_grid_knn[\"n_neighbors\"],acc_knn[0])\n",
    "plt.plot(para_grid_knn[\"n_neighbors\"],acc_knn[1])\n",
    "plt.legend([\"p = 1\",\"p = 2\"])\n",
    "plt.xticks(para_grid_knn[\"n_neighbors\"])\n",
    "plt.title(\"The accuracy of KNN\")\n",
    "plt.ylabel(\"Accuracy(%)\")\n",
    "plt.xlabel(\"n_neighbors\")   \n",
    "           \n",
    "plt.subplot(2,2,2)\n",
    "plt.plot(para_grid_knn[\"n_neighbors\"],time_knn[0])\n",
    "plt.plot(para_grid_knn[\"n_neighbors\"],time_knn[1])\n",
    "plt.legend([\"p = 1\",\"p = 2\"])\n",
    "plt.xticks(para_grid_knn[\"n_neighbors\"])\n",
    "plt.title(\"Running time of KNN\")\n",
    "plt.ylabel(\"Time(%)\")\n",
    "plt.xlabel(\"n_neighbors\")   \n",
    "\n",
    "plt.show()"
   ]
  },
  {
   "cell_type": "code",
   "execution_count": 17,
   "id": "8e3ad17c",
   "metadata": {},
   "outputs": [
    {
     "name": "stdout",
     "output_type": "stream",
     "text": [
      "0.8511784511784511\n",
      "Finish classifying, it takes 159.8613338470459s\n",
      "0.8430976430976431\n",
      "Finish classifying, it takes 181.5887725353241s\n",
      "0.8577441077441077\n",
      "Finish classifying, it takes 154.08210062980652s\n",
      "0.847979797979798\n",
      "Finish classifying, it takes 155.83111786842346s\n",
      "0.8501683501683501\n",
      "Finish classifying, it takes 175.1950855255127s\n"
     ]
    }
   ],
   "source": [
    "import time\n",
    "###KNN with 5 fold\n",
    "from sklearn.neighbors import KNeighborsClassifier\n",
    "from sklearn.metrics import accuracy_score\n",
    "#from sklearn.metrics import classification_report\n",
    "from sklearn.model_selection import KFold\n",
    "KNN_score=[]\n",
    "KNN_time=[]\n",
    "kfold = KFold(n_splits=5)\n",
    "knnscore_sum=0\n",
    "\n",
    "for train_index, test_index in kfold.split(X_train, y_train):\n",
    "    this_train_x, this_train_y = X_train[train_index], y_train[train_index]  \n",
    "    this_test_x, this_test_y = X_train[test_index], y_train[test_index]  \n",
    "    KNNclassifier = KNeighborsClassifier(n_neighbors = 6, p = 1)\n",
    "    KNNclassifier.fit(this_train_x, this_train_y)\n",
    "    prediction = KNNclassifier.predict(this_test_x)\n",
    "    score = accuracy_score(this_test_y, prediction)\n",
    "    print(score)\n",
    "    KNN_score.append(score)\n",
    "    start=time.time()\n",
    "    prediction = KNNclassifier.predict(test_norm)\n",
    "    end=time.time()\n",
    "    print('Finish classifying, it takes '+str(end-start)+'s')\n",
    "    KNN_time.append(end-start)\n",
    "    knnscore_sum = knnscore_sum + score"
   ]
  },
  {
   "cell_type": "code",
   "execution_count": 18,
   "id": "baaa6891",
   "metadata": {},
   "outputs": [
    {
     "data": {
      "text/plain": [
       "0.8500336700336699"
      ]
     },
     "execution_count": 18,
     "metadata": {},
     "output_type": "execute_result"
    }
   ],
   "source": [
    "knnscore_sum/5"
   ]
  },
  {
   "cell_type": "markdown",
   "id": "ed6a828d",
   "metadata": {},
   "source": [
    "# 3.2 SVM classifier"
   ]
  },
  {
   "cell_type": "code",
   "execution_count": 19,
   "id": "b5cd9774",
   "metadata": {},
   "outputs": [
    {
     "name": "stdout",
     "output_type": "stream",
     "text": [
      "0.8388888888888889\n",
      "Finish classifying, it takes 0.009974241256713867s\n",
      "0.8294612794612795\n",
      "Finish classifying, it takes 0.009477853775024414s\n",
      "0.8420875420875421\n",
      "Finish classifying, it takes 0.00803828239440918s\n",
      "0.8373737373737373\n",
      "Finish classifying, it takes 0.007039546966552734s\n",
      "0.8292929292929293\n",
      "Finish classifying, it takes 0.009000062942504883s\n"
     ]
    }
   ],
   "source": [
    "###SVM with 5 fold\n",
    "from sklearn import svm\n",
    "\n",
    "from sklearn.model_selection import KFold\n",
    "SVM_score=[]\n",
    "SVM_time=[]\n",
    "kfold = KFold(n_splits=5)\n",
    "svmscore_sum=0\n",
    "\n",
    "for train_index, test_index in kfold.split(X_train, y_train):\n",
    "    this_train_x, this_train_y = X_train[train_index], y_train[train_index]  \n",
    "    this_test_x, this_test_y = X_train[test_index], y_train[test_index]  \n",
    "    SVMclassifier = svm.LinearSVC(max_iter=5000,dual=False)\n",
    "    SVMclassifier.fit(this_train_x, this_train_y)\n",
    "    prediction = SVMclassifier.predict(this_test_x)\n",
    "    score = accuracy_score(this_test_y, prediction)\n",
    "    print(score)\n",
    "    SVM_score.append(score)\n",
    "    start=time.time()\n",
    "    prediction = SVMclassifier.predict(test_norm)\n",
    "    end=time.time()\n",
    "    print('Finish classifying, it takes '+str(end-start)+'s')\n",
    "    SVM_time.append(end-start)\n",
    "    svmscore_sum = svmscore_sum + score"
   ]
  },
  {
   "cell_type": "code",
   "execution_count": 20,
   "id": "a8ec1a4f",
   "metadata": {},
   "outputs": [
    {
     "data": {
      "text/plain": [
       "0.8354208754208754"
      ]
     },
     "execution_count": 20,
     "metadata": {},
     "output_type": "execute_result"
    }
   ],
   "source": [
    "svmscore_sum/5"
   ]
  },
  {
   "cell_type": "markdown",
   "id": "674af7c4",
   "metadata": {},
   "source": [
    "# 3.3 logistic regression"
   ]
  },
  {
   "cell_type": "code",
   "execution_count": 35,
   "id": "44ffb59c",
   "metadata": {},
   "outputs": [
    {
     "name": "stdout",
     "output_type": "stream",
     "text": [
      "max_iter = 100, penalty = l1, Accuracy = 83.00%, running time = 179.74s\n",
      "max_iter = 200, penalty = l1, Accuracy = 83.00%, running time = 210.94s\n",
      "max_iter = 300, penalty = l1, Accuracy = 83.00%, running time = 203.95s\n",
      "max_iter = 100, penalty = l2, Accuracy = 82.67%, running time = 43.65s\n",
      "max_iter = 200, penalty = l2, Accuracy = 82.67%, running time = 47.22s\n",
      "max_iter = 300, penalty = l2, Accuracy = 82.67%, running time = 45.09s\n"
     ]
    }
   ],
   "source": [
    "#LR parameter tunning\n",
    "from sklearn.linear_model import LogisticRegression\n",
    "\n",
    "\n",
    "#set parameter\n",
    "para_grid_lr = {'max_iter': [100,200,300],'penalty' : ['l1','l2']}\n",
    "\n",
    "#store data\n",
    "time_lr = []\n",
    "acc_lr = []\n",
    "\n",
    "#grid search\n",
    "\n",
    "for penalty in para_grid_lr[\"penalty\"]:\n",
    "    acc_mean = []\n",
    "    time_list = []\n",
    "    for max_iter in para_grid_lr[\"max_iter\"]:\n",
    "            acc= []\n",
    "            start = time()\n",
    "            \n",
    "            #classifier\n",
    "            lr = LogisticRegression(max_iter = max_iter, penalty = penalty,C = 1, solver = 'liblinear')\n",
    "            lr.fit(X_train, y_train)\n",
    "            \n",
    "            #get acc and time\n",
    "            y_pred = lr.predict(X_valid)\n",
    "            acc.append(accuracy_score(y_pred,y_valid))\n",
    "            acc_mean.append(np.mean(acc)*100)\n",
    "            time_list.append(time()-start)\n",
    "            print(\"max_iter = %d, penalty = %s, Accuracy = %.2f%%, running time = %.2fs\"%(max_iter,penalty,acc_mean[-1],time_list[-1]))\n",
    "    acc_lr.append(acc_mean)\n",
    "    time_lr.append(time_list)"
   ]
  },
  {
   "cell_type": "code",
   "execution_count": 36,
   "id": "976b3652",
   "metadata": {},
   "outputs": [
    {
     "data": {
      "image/png": "[encoded data removed]",
      "text/plain": [
       "<Figure size 1080x864 with 2 Axes>"
      ]
     },
     "metadata": {
      "needs_background": "light"
     },
     "output_type": "display_data"
    }
   ],
   "source": [
    "plt.figure(figsize = (15,12))\n",
    "\n",
    "plt.subplot(2,2,1)\n",
    "plt.plot(para_grid_lr[\"max_iter\"],acc_lr[0])\n",
    "plt.plot(para_grid_lr[\"max_iter\"],acc_lr[1])\n",
    "plt.legend([\"penalty = l1\",\"penalty = l2\"])\n",
    "plt.xticks(para_grid_lr[\"max_iter\"])\n",
    "plt.title(\"The accuracy of LR\")\n",
    "plt.ylabel(\"Accuracy(%)\")\n",
    "plt.xlabel(\"max_iter\")   \n",
    "           \n",
    "plt.subplot(2,2,2)\n",
    "plt.plot(para_grid_lr[\"max_iter\"],time_lr[0])\n",
    "plt.plot(para_grid_lr[\"max_iter\"],time_lr[1])\n",
    "plt.legend([\"penalty = l1\",\"penalty = l2\"])\n",
    "plt.xticks(para_grid_lr[\"max_iter\"])\n",
    "plt.title(\"The running time of LR\")\n",
    "plt.ylabel(\"time(s)\")\n",
    "plt.xlabel(\"max_iter\")   \n",
    "\n",
    "plt.show()\n"
   ]
  },
  {
   "cell_type": "code",
   "execution_count": 21,
   "id": "a521041f",
   "metadata": {},
   "outputs": [
    {
     "name": "stdout",
     "output_type": "stream",
     "text": [
      "0.8486531986531987\n",
      "Finish classifying, it takes 0.007008552551269531s\n",
      "0.8393939393939394\n",
      "Finish classifying, it takes 0.011997222900390625s\n",
      "0.8501683501683501\n",
      "Finish classifying, it takes 0.0070073604583740234s\n",
      "0.8459595959595959\n",
      "Finish classifying, it takes 0.007952690124511719s\n",
      "0.8412457912457912\n",
      "Finish classifying, it takes 0.009002447128295898s\n"
     ]
    }
   ],
   "source": [
    "###logistic regression(LR) with 5 fold\n",
    "from sklearn.linear_model import LogisticRegression\n",
    "#\n",
    "import time\n",
    "from sklearn.metrics import accuracy_score\n",
    "#from sklearn.metrics import classification_report\n",
    "from sklearn.model_selection import KFold\n",
    "\n",
    "LR_score=[]\n",
    "LR_time=[]\n",
    "kfold = KFold(n_splits=5)\n",
    "lrscore_sum=0\n",
    "for train_index, test_index in kfold.split(X_train, y_train):\n",
    "    this_train_x, this_train_y = X_train[train_index], y_train[train_index]  \n",
    "    this_test_x, this_test_y = X_train[test_index], y_train[test_index]  \n",
    "    \n",
    "    LRclassifier = LogisticRegression(solver='liblinear',\n",
    "                                      max_iter=300,penalty='l2',tol=0.001)\n",
    "    LRclassifier.fit(this_train_x,this_train_y)\n",
    "    prediction = LRclassifier.predict(this_test_x)      \n",
    "\n",
    "    score = accuracy_score(this_test_y, prediction)\n",
    "    print(score)\n",
    "    LR_score.append(score)\n",
    "    start=time.time()\n",
    "    prediction = LRclassifier.predict(test_norm)\n",
    "    end=time.time()\n",
    "    print('Finish classifying, it takes '+str(end-start)+'s')\n",
    "    LR_time.append(end-start)\n",
    "    lrscore_sum = lrscore_sum+score"
   ]
  },
  {
   "cell_type": "code",
   "execution_count": 22,
   "id": "5262883e",
   "metadata": {},
   "outputs": [
    {
     "data": {
      "text/plain": [
       "0.845084175084175"
      ]
     },
     "execution_count": 22,
     "metadata": {},
     "output_type": "execute_result"
    }
   ],
   "source": [
    "lrscore_sum/5"
   ]
  },
  {
   "cell_type": "markdown",
   "id": "39e9e7ee",
   "metadata": {},
   "source": [
    "# 3.4 Random forest"
   ]
  },
  {
   "cell_type": "code",
   "execution_count": 39,
   "id": "7b4c42eb",
   "metadata": {},
   "outputs": [
    {
     "name": "stdout",
     "output_type": "stream",
     "text": [
      "max_depth = 7, random_state = 0, Accuracy = 82.67%, running time = 121.19s\n",
      "max_depth = 9, random_state = 0, Accuracy = 82.67%, running time = 158.98s\n",
      "max_depth = 11, random_state = 0, Accuracy = 82.67%, running time = 184.65s\n",
      "max_depth = 7, random_state = 2, Accuracy = 82.67%, running time = 123.55s\n",
      "max_depth = 9, random_state = 2, Accuracy = 82.67%, running time = 169.79s\n",
      "max_depth = 11, random_state = 2, Accuracy = 82.67%, running time = 166.82s\n"
     ]
    }
   ],
   "source": [
    "# Random forest classifier \n",
    "from sklearn.ensemble import RandomForestClassifier\n",
    "\n",
    "\n",
    "\n",
    "#set parameter\n",
    "para_grid_rf = {'max_depth':[7,9,11],'random_state':[0,2]}\n",
    "\n",
    "#store data\n",
    "time_rf = []\n",
    "acc_rf = []\n",
    "\n",
    "#grid searc\n",
    "for random_state in para_grid_rf[\"random_state\"]:\n",
    "    acc_mean = []\n",
    "    time_list = []\n",
    "    for max_depth in para_grid_rf[\"max_depth\"]:\n",
    "            acc= []\n",
    "            start = time()\n",
    "            \n",
    "            #classifier\n",
    "            rf = RandomForestClassifier( max_depth= max_depth,random_state =random_state, n_estimators=500)\n",
    "            rf.fit(X_train, y_train)\n",
    "            \n",
    "            #get acc and time\n",
    "            y_pred = lr.predict(X_valid)\n",
    "            acc.append(accuracy_score(y_pred,y_valid))\n",
    "            acc_mean.append(np.around(np.mean(acc)*100,4))\n",
    "            time_list.append(time()-start)\n",
    "            print(\"max_depth = %d, random_state = %d, Accuracy = %.2f%%, running time = %.2fs\"%(max_depth,random_state,acc_mean[-1],time_list[-1]))\n",
    "    acc_rf.append(acc_mean)\n",
    "    time_rf.append(time_list)\n"
   ]
  },
  {
   "cell_type": "code",
   "execution_count": 40,
   "id": "ba76a087",
   "metadata": {},
   "outputs": [
    {
     "data": {
      "image/png": "[encoded data removed]",
      "text/plain": [
       "<Figure size 1080x864 with 2 Axes>"
      ]
     },
     "metadata": {
      "needs_background": "light"
     },
     "output_type": "display_data"
    }
   ],
   "source": [
    "plt.figure(figsize = (15,12))\n",
    "\n",
    "plt.subplot(2,2,1)\n",
    "plt.plot(para_grid_rf[\"max_depth\"],acc_rf[0])\n",
    "plt.plot(para_grid_rf[\"max_depth\"],acc_rf[1])\n",
    "plt.legend([\"random_state = 0\",\"random_state = 2\"])\n",
    "plt.xticks(para_grid_rf[\"max_depth\"])\n",
    "plt.title(\"The accuracy of RF\")\n",
    "plt.ylabel(\"Accuracy(%)\")\n",
    "plt.xlabel(\"max_depth\")   \n",
    "           \n",
    "plt.subplot(2,2,2)\n",
    "plt.plot(para_grid_rf[\"max_depth\"],time_rf[0])\n",
    "plt.plot(para_grid_rf[\"max_depth\"],time_rf[1])\n",
    "plt.legend([\"random_state = 0\",\"random_state = 2\"])\n",
    "plt.xticks(para_grid_rf[\"max_depth\"])\n",
    "plt.title(\"Running time of RF\")\n",
    "plt.ylabel(\"Time(%)\")\n",
    "plt.xlabel(\"max_depth\")   \n",
    "\n",
    "plt.show()"
   ]
  },
  {
   "cell_type": "code",
   "execution_count": 23,
   "id": "62d76d1f",
   "metadata": {},
   "outputs": [
    {
     "name": "stdout",
     "output_type": "stream",
     "text": [
      "0.8606060606060606\n",
      "Finish classifying, it takes 0.8252971172332764s\n",
      "0.8488215488215488\n",
      "Finish classifying, it takes 0.5999958515167236s\n",
      "0.8653198653198653\n",
      "Finish classifying, it takes 0.6478431224822998s\n",
      "0.858922558922559\n",
      "Finish classifying, it takes 0.5890023708343506s\n",
      "0.8553872053872054\n",
      "Finish classifying, it takes 0.6040041446685791s\n"
     ]
    }
   ],
   "source": [
    "###Roandom Forset(RF) with 5 fold\n",
    "from sklearn.ensemble import RandomForestClassifier\n",
    "RF_score=[]\n",
    "RF_time=[]\n",
    "kfold = KFold(n_splits=5)\n",
    "rfscore_sum=0\n",
    "for train_index, test_index in kfold.split(X_train, y_train):\n",
    "    this_train_x, this_train_y = X_train[train_index], y_train[train_index]  \n",
    "    this_test_x, this_test_y = X_train[test_index], y_train[test_index]  \n",
    "    \n",
    "    RFclassifier = RandomForestClassifier(max_depth=11, min_samples_leaf=2, \n",
    "                                          n_estimators=500,min_samples_split=10,\n",
    "                                          random_state=0)\n",
    "    RFclassifier.fit(this_train_x,this_train_y)\n",
    "    prediction = RFclassifier.predict(this_test_x)      \n",
    "\n",
    "    score = accuracy_score(this_test_y, prediction)\n",
    "    print(score)\n",
    "    RF_score.append(score)\n",
    "    start=time.time()\n",
    "    prediction = RFclassifier.predict(test_norm)\n",
    "    end=time.time()\n",
    "    print('Finish classifying, it takes '+str(end-start)+'s')\n",
    "    RF_time.append(end-start)\n",
    "    rfscore_sum = rfscore_sum+score"
   ]
  },
  {
   "cell_type": "code",
   "execution_count": 24,
   "id": "f544be5e",
   "metadata": {},
   "outputs": [
    {
     "data": {
      "text/plain": [
       "0.8578114478114479"
      ]
     },
     "execution_count": 24,
     "metadata": {},
     "output_type": "execute_result"
    }
   ],
   "source": [
    "rfscore_sum/5"
   ]
  },
  {
   "cell_type": "code",
   "execution_count": 25,
   "id": "25dbe6aa",
   "metadata": {},
   "outputs": [
    {
     "data": {
      "text/plain": [
       "0.8578114478114479"
      ]
     },
     "execution_count": 25,
     "metadata": {},
     "output_type": "execute_result"
    }
   ],
   "source": [
    "best_acc= max(knnscore_sum/5,svmscore_sum/5, lrscore_sum/5, rfscore_sum/5)\n",
    "best_acc"
   ]
  },
  {
   "cell_type": "markdown",
   "id": "11141959",
   "metadata": {},
   "source": [
    "# 4. output"
   ]
  },
  {
   "cell_type": "code",
   "execution_count": 26,
   "id": "665a338c",
   "metadata": {},
   "outputs": [],
   "source": [
    "# test_input.csv includes 5000 samples used for label prediction. Test samples do not have labels.\n",
    "data_test_df = pd.read_csv('./Input/test/test_input.csv')"
   ]
  },
  {
   "cell_type": "code",
   "execution_count": 27,
   "id": "0929fe9d",
   "metadata": {},
   "outputs": [
    {
     "data": {
      "text/html": [
       "<div>\n",
       "<style scoped>\n",
       "    .dataframe tbody tr th:only-of-type {\n",
       "        vertical-align: middle;\n",
       "    }\n",
       "\n",
       "    .dataframe tbody tr th {\n",
       "        vertical-align: top;\n",
       "    }\n",
       "\n",
       "    .dataframe thead th {\n",
       "        text-align: right;\n",
       "    }\n",
       "</style>\n",
       "<table border=\"1\" class=\"dataframe\">\n",
       "  <thead>\n",
       "    <tr style=\"text-align: right;\">\n",
       "      <th></th>\n",
       "      <th>id</th>\n",
       "      <th>v1</th>\n",
       "      <th>v2</th>\n",
       "      <th>v3</th>\n",
       "      <th>v4</th>\n",
       "      <th>...</th>\n",
       "      <th>v780</th>\n",
       "      <th>v781</th>\n",
       "      <th>v782</th>\n",
       "      <th>v783</th>\n",
       "      <th>v784</th>\n",
       "    </tr>\n",
       "  </thead>\n",
       "  <tbody>\n",
       "    <tr>\n",
       "      <th>0</th>\n",
       "      <td>0</td>\n",
       "      <td>0</td>\n",
       "      <td>0</td>\n",
       "      <td>0</td>\n",
       "      <td>0</td>\n",
       "      <td>...</td>\n",
       "      <td>0</td>\n",
       "      <td>0</td>\n",
       "      <td>0</td>\n",
       "      <td>0</td>\n",
       "      <td>0</td>\n",
       "    </tr>\n",
       "    <tr>\n",
       "      <th>1</th>\n",
       "      <td>1</td>\n",
       "      <td>0</td>\n",
       "      <td>0</td>\n",
       "      <td>0</td>\n",
       "      <td>0</td>\n",
       "      <td>...</td>\n",
       "      <td>0</td>\n",
       "      <td>0</td>\n",
       "      <td>0</td>\n",
       "      <td>0</td>\n",
       "      <td>0</td>\n",
       "    </tr>\n",
       "    <tr>\n",
       "      <th>2</th>\n",
       "      <td>2</td>\n",
       "      <td>0</td>\n",
       "      <td>0</td>\n",
       "      <td>0</td>\n",
       "      <td>0</td>\n",
       "      <td>...</td>\n",
       "      <td>0</td>\n",
       "      <td>0</td>\n",
       "      <td>0</td>\n",
       "      <td>0</td>\n",
       "      <td>0</td>\n",
       "    </tr>\n",
       "    <tr>\n",
       "      <th>3</th>\n",
       "      <td>3</td>\n",
       "      <td>0</td>\n",
       "      <td>0</td>\n",
       "      <td>0</td>\n",
       "      <td>0</td>\n",
       "      <td>...</td>\n",
       "      <td>0</td>\n",
       "      <td>0</td>\n",
       "      <td>0</td>\n",
       "      <td>0</td>\n",
       "      <td>0</td>\n",
       "    </tr>\n",
       "    <tr>\n",
       "      <th>4</th>\n",
       "      <td>4</td>\n",
       "      <td>0</td>\n",
       "      <td>0</td>\n",
       "      <td>0</td>\n",
       "      <td>0</td>\n",
       "      <td>...</td>\n",
       "      <td>0</td>\n",
       "      <td>0</td>\n",
       "      <td>0</td>\n",
       "      <td>0</td>\n",
       "      <td>0</td>\n",
       "    </tr>\n",
       "  </tbody>\n",
       "</table>\n",
       "<p>5 rows × 785 columns</p>\n",
       "</div>"
      ],
      "text/plain": [
       "   id  v1  v2  v3  v4  ...  v780  v781  v782  v783  v784\n",
       "0   0   0   0   0   0  ...     0     0     0     0     0\n",
       "1   1   0   0   0   0  ...     0     0     0     0     0\n",
       "2   2   0   0   0   0  ...     0     0     0     0     0\n",
       "3   3   0   0   0   0  ...     0     0     0     0     0\n",
       "4   4   0   0   0   0  ...     0     0     0     0     0\n",
       "\n",
       "[5 rows x 785 columns]"
      ]
     },
     "execution_count": 27,
     "metadata": {},
     "output_type": "execute_result"
    }
   ],
   "source": [
    "data_test_df.head()"
   ]
  },
  {
   "cell_type": "code",
   "execution_count": 28,
   "id": "a53a529f",
   "metadata": {},
   "outputs": [
    {
     "data": {
      "text/plain": [
       "array([1, 1, 1, ..., 5, 0, 2], dtype=int64)"
      ]
     },
     "execution_count": 28,
     "metadata": {},
     "output_type": "execute_result"
    }
   ],
   "source": [
    "y_pred_best = RFclassifier.predict(test_norm)\n",
    "y_pred_best"
   ]
  },
  {
   "cell_type": "code",
   "execution_count": 29,
   "id": "5ea20a5f",
   "metadata": {},
   "outputs": [],
   "source": [
    "# assume output is the predicted labels from classifiers using input as data from test_input.csv\n",
    "# (5000,)\n",
    "\n",
    "\n",
    "output_df = pd.DataFrame(y_pred_best, columns = ['label'])\n",
    "output_df.to_csv('./Output/test_output.csv', sep=\",\", float_format='%d', index_label=\"id\")\n"
   ]
  }
 ],
 "metadata": {
  "kernelspec": {
   "display_name": "Python 3 (ipykernel)",
   "language": "python",
   "name": "python3"
  },
  "language_info": {
   "codemirror_mode": {
    "name": "ipython",
    "version": 3
   },
   "file_extension": ".py",
   "mimetype": "text/x-python",
   "name": "python",
   "nbconvert_exporter": "python",
   "pygments_lexer": "ipython3",
   "version": "3.9.7"
  }
 },
 "nbformat": 4,
 "nbformat_minor": 5
}
